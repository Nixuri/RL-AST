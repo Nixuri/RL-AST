{
 "cells": [
  {
   "cell_type": "code",
   "execution_count": 1,
   "source": [
    "import random\n",
    "import tensortrade.stochastic as sp\n",
    "\n",
    "%matplotlib inline"
   ],
   "outputs": [],
   "metadata": {}
  },
  {
   "cell_type": "code",
   "execution_count": null,
   "source": [
    "data = sp.gbm(\n",
    "    base_price=100,\n",
    "    base_volume=5,\n",
    "    start_date=\"2010-01-01\",\n",
    "    times_to_generate=1000,\n",
    "    time_frame='1H'\n",
    ")\n",
    "\n",
    "data"
   ],
   "outputs": [],
   "metadata": {}
  }
 ],
 "metadata": {
  "orig_nbformat": 4,
  "language_info": {
   "name": "python",
   "version": "3.8.10",
   "mimetype": "text/x-python",
   "codemirror_mode": {
    "name": "ipython",
    "version": 3
   },
   "pygments_lexer": "ipython3",
   "nbconvert_exporter": "python",
   "file_extension": ".py"
  },
  "kernelspec": {
   "name": "python3",
   "display_name": "Python 3.8.10 64-bit ('Finance': venv)"
  },
  "interpreter": {
   "hash": "f0c01cd1dfd62cbcae651e406b6b3174735a58e229b9fe583b9408a353b8a294"
  }
 },
 "nbformat": 4,
 "nbformat_minor": 2
}